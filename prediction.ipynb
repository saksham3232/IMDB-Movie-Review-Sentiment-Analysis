{
 "cells": [
  {
   "cell_type": "code",
   "execution_count": 1,
   "id": "90eea192",
   "metadata": {},
   "outputs": [],
   "source": [
    "# Step 1: Import libraries and load the model\n",
    "import numpy as np\n",
    "import tensorflow as tf\n",
    "from tensorflow.keras.models import load_model\n",
    "from tensorflow.keras.preprocessing import sequence\n",
    "from tensorflow.keras.datasets import imdb"
   ]
  },
  {
   "cell_type": "code",
   "execution_count": 2,
   "id": "f8885da4",
   "metadata": {},
   "outputs": [],
   "source": [
    "# Load the IMDB dataset\n",
    "word_index=imdb.get_word_index()\n",
    "reverse_word_index={value: key for key, value in word_index.items()}"
   ]
  },
  {
   "cell_type": "code",
   "execution_count": 3,
   "id": "b0509f2b",
   "metadata": {},
   "outputs": [
    {
     "name": "stderr",
     "output_type": "stream",
     "text": [
      "WARNING:absl:Compiled the loaded model, but the compiled metrics have yet to be built. `model.compile_metrics` will be empty until you train or evaluate the model.\n"
     ]
    },
    {
     "data": {
      "text/html": [
       "<pre style=\"white-space:pre;overflow-x:auto;line-height:normal;font-family:Menlo,'DejaVu Sans Mono',consolas,'Courier New',monospace\"><span style=\"font-weight: bold\">Model: \"sequential_2\"</span>\n",
       "</pre>\n"
      ],
      "text/plain": [
       "\u001b[1mModel: \"sequential_2\"\u001b[0m\n"
      ]
     },
     "metadata": {},
     "output_type": "display_data"
    },
    {
     "data": {
      "text/html": [
       "<pre style=\"white-space:pre;overflow-x:auto;line-height:normal;font-family:Menlo,'DejaVu Sans Mono',consolas,'Courier New',monospace\">┏━━━━━━━━━━━━━━━━━━━━━━━━━━━━━━━━━┳━━━━━━━━━━━━━━━━━━━━━━━━┳━━━━━━━━━━━━━━━┓\n",
       "┃<span style=\"font-weight: bold\"> Layer (type)                    </span>┃<span style=\"font-weight: bold\"> Output Shape           </span>┃<span style=\"font-weight: bold\">       Param # </span>┃\n",
       "┡━━━━━━━━━━━━━━━━━━━━━━━━━━━━━━━━━╇━━━━━━━━━━━━━━━━━━━━━━━━╇━━━━━━━━━━━━━━━┩\n",
       "│ embedding_2 (<span style=\"color: #0087ff; text-decoration-color: #0087ff\">Embedding</span>)         │ (<span style=\"color: #00d7ff; text-decoration-color: #00d7ff\">None</span>, <span style=\"color: #00af00; text-decoration-color: #00af00\">500</span>, <span style=\"color: #00af00; text-decoration-color: #00af00\">128</span>)       │     <span style=\"color: #00af00; text-decoration-color: #00af00\">1,280,000</span> │\n",
       "├─────────────────────────────────┼────────────────────────┼───────────────┤\n",
       "│ simple_rnn_1 (<span style=\"color: #0087ff; text-decoration-color: #0087ff\">SimpleRNN</span>)        │ (<span style=\"color: #00d7ff; text-decoration-color: #00d7ff\">None</span>, <span style=\"color: #00af00; text-decoration-color: #00af00\">128</span>)            │        <span style=\"color: #00af00; text-decoration-color: #00af00\">32,896</span> │\n",
       "├─────────────────────────────────┼────────────────────────┼───────────────┤\n",
       "│ dense_1 (<span style=\"color: #0087ff; text-decoration-color: #0087ff\">Dense</span>)                 │ (<span style=\"color: #00d7ff; text-decoration-color: #00d7ff\">None</span>, <span style=\"color: #00af00; text-decoration-color: #00af00\">1</span>)              │           <span style=\"color: #00af00; text-decoration-color: #00af00\">129</span> │\n",
       "└─────────────────────────────────┴────────────────────────┴───────────────┘\n",
       "</pre>\n"
      ],
      "text/plain": [
       "┏━━━━━━━━━━━━━━━━━━━━━━━━━━━━━━━━━┳━━━━━━━━━━━━━━━━━━━━━━━━┳━━━━━━━━━━━━━━━┓\n",
       "┃\u001b[1m \u001b[0m\u001b[1mLayer (type)                   \u001b[0m\u001b[1m \u001b[0m┃\u001b[1m \u001b[0m\u001b[1mOutput Shape          \u001b[0m\u001b[1m \u001b[0m┃\u001b[1m \u001b[0m\u001b[1m      Param #\u001b[0m\u001b[1m \u001b[0m┃\n",
       "┡━━━━━━━━━━━━━━━━━━━━━━━━━━━━━━━━━╇━━━━━━━━━━━━━━━━━━━━━━━━╇━━━━━━━━━━━━━━━┩\n",
       "│ embedding_2 (\u001b[38;5;33mEmbedding\u001b[0m)         │ (\u001b[38;5;45mNone\u001b[0m, \u001b[38;5;34m500\u001b[0m, \u001b[38;5;34m128\u001b[0m)       │     \u001b[38;5;34m1,280,000\u001b[0m │\n",
       "├─────────────────────────────────┼────────────────────────┼───────────────┤\n",
       "│ simple_rnn_1 (\u001b[38;5;33mSimpleRNN\u001b[0m)        │ (\u001b[38;5;45mNone\u001b[0m, \u001b[38;5;34m128\u001b[0m)            │        \u001b[38;5;34m32,896\u001b[0m │\n",
       "├─────────────────────────────────┼────────────────────────┼───────────────┤\n",
       "│ dense_1 (\u001b[38;5;33mDense\u001b[0m)                 │ (\u001b[38;5;45mNone\u001b[0m, \u001b[38;5;34m1\u001b[0m)              │           \u001b[38;5;34m129\u001b[0m │\n",
       "└─────────────────────────────────┴────────────────────────┴───────────────┘\n"
      ]
     },
     "metadata": {},
     "output_type": "display_data"
    },
    {
     "data": {
      "text/html": [
       "<pre style=\"white-space:pre;overflow-x:auto;line-height:normal;font-family:Menlo,'DejaVu Sans Mono',consolas,'Courier New',monospace\"><span style=\"font-weight: bold\"> Total params: </span><span style=\"color: #00af00; text-decoration-color: #00af00\">1,313,027</span> (5.01 MB)\n",
       "</pre>\n"
      ],
      "text/plain": [
       "\u001b[1m Total params: \u001b[0m\u001b[38;5;34m1,313,027\u001b[0m (5.01 MB)\n"
      ]
     },
     "metadata": {},
     "output_type": "display_data"
    },
    {
     "data": {
      "text/html": [
       "<pre style=\"white-space:pre;overflow-x:auto;line-height:normal;font-family:Menlo,'DejaVu Sans Mono',consolas,'Courier New',monospace\"><span style=\"font-weight: bold\"> Trainable params: </span><span style=\"color: #00af00; text-decoration-color: #00af00\">1,313,025</span> (5.01 MB)\n",
       "</pre>\n"
      ],
      "text/plain": [
       "\u001b[1m Trainable params: \u001b[0m\u001b[38;5;34m1,313,025\u001b[0m (5.01 MB)\n"
      ]
     },
     "metadata": {},
     "output_type": "display_data"
    },
    {
     "data": {
      "text/html": [
       "<pre style=\"white-space:pre;overflow-x:auto;line-height:normal;font-family:Menlo,'DejaVu Sans Mono',consolas,'Courier New',monospace\"><span style=\"font-weight: bold\"> Non-trainable params: </span><span style=\"color: #00af00; text-decoration-color: #00af00\">0</span> (0.00 B)\n",
       "</pre>\n"
      ],
      "text/plain": [
       "\u001b[1m Non-trainable params: \u001b[0m\u001b[38;5;34m0\u001b[0m (0.00 B)\n"
      ]
     },
     "metadata": {},
     "output_type": "display_data"
    },
    {
     "data": {
      "text/html": [
       "<pre style=\"white-space:pre;overflow-x:auto;line-height:normal;font-family:Menlo,'DejaVu Sans Mono',consolas,'Courier New',monospace\"><span style=\"font-weight: bold\"> Optimizer params: </span><span style=\"color: #00af00; text-decoration-color: #00af00\">2</span> (12.00 B)\n",
       "</pre>\n"
      ],
      "text/plain": [
       "\u001b[1m Optimizer params: \u001b[0m\u001b[38;5;34m2\u001b[0m (12.00 B)\n"
      ]
     },
     "metadata": {},
     "output_type": "display_data"
    }
   ],
   "source": [
    "# Load the pre-trained model\n",
    "model = load_model('imdb_rnn_model.h5')\n",
    "model.summary()"
   ]
  },
  {
   "cell_type": "code",
   "execution_count": 4,
   "id": "b9c847a3",
   "metadata": {},
   "outputs": [
    {
     "data": {
      "text/plain": [
       "[array([[ 0.36105824, -0.30692592, -0.40397286, ..., -0.7444718 ,\n",
       "          0.24599703, -0.69592065],\n",
       "        [ 0.092667  , -0.01068819, -0.06177408, ...,  0.01656277,\n",
       "          0.01962144, -0.0116035 ],\n",
       "        [-0.02428581,  0.02973604, -0.01336488, ..., -0.17280911,\n",
       "          0.12452951, -0.08052374],\n",
       "        ...,\n",
       "        [ 0.04948741, -0.01957009, -0.01873673, ..., -0.03481885,\n",
       "          0.03041201, -0.04106523],\n",
       "        [-0.11510856,  0.135555  ,  0.05256535, ..., -0.04984682,\n",
       "          0.01616572, -0.02493442],\n",
       "        [ 0.09884264, -0.04456904, -0.09419725, ...,  0.07602981,\n",
       "         -0.02305605,  0.02662083]], dtype=float32),\n",
       " array([[ 0.11335251,  0.1699991 , -0.04930597, ..., -0.01574653,\n",
       "         -0.14563844, -0.16702172],\n",
       "        [-0.07056404,  0.09872516, -0.23050568, ...,  0.05854749,\n",
       "         -0.04792046, -0.08334489],\n",
       "        [ 0.1515118 , -0.11950308,  0.06929334, ..., -0.03523587,\n",
       "          0.1543157 , -0.00611078],\n",
       "        ...,\n",
       "        [ 0.0654556 ,  0.0351316 ,  0.11126611, ...,  0.10045286,\n",
       "         -0.05195291, -0.01210752],\n",
       "        [-0.15532167, -0.06373791, -0.03239815, ..., -0.01717485,\n",
       "         -0.016823  ,  0.15153617],\n",
       "        [ 0.02906648, -0.02531459,  0.10329954, ...,  0.12817872,\n",
       "          0.03179169, -0.07407668]], dtype=float32),\n",
       " array([[ 0.05664293,  0.09951997, -0.0801239 , ..., -0.25314018,\n",
       "          0.04269895, -0.11427158],\n",
       "        [-0.0686406 ,  0.04712511, -0.04116276, ...,  0.06204272,\n",
       "         -0.09235993,  0.14515483],\n",
       "        [ 0.14009239, -0.02763112,  0.04583837, ...,  0.01874288,\n",
       "         -0.06755545,  0.18999128],\n",
       "        ...,\n",
       "        [-0.01900825,  0.01727902, -0.15226889, ..., -0.02022417,\n",
       "         -0.06631585, -0.08975217],\n",
       "        [-0.17408536,  0.02877208, -0.00731017, ..., -0.00035701,\n",
       "          0.07472203,  0.01324074],\n",
       "        [ 0.01525313, -0.14521235,  0.18871088, ...,  0.03905321,\n",
       "         -0.00714583, -0.24759564]], dtype=float32),\n",
       " array([ 1.66924931e-02, -3.69856991e-02, -4.38109040e-02, -3.35240774e-02,\n",
       "        -5.14445677e-02, -3.92140672e-02, -9.84111335e-03,  4.33077104e-02,\n",
       "        -4.53782380e-02,  5.71793644e-05,  2.36308556e-02, -1.30811213e-02,\n",
       "         2.44601127e-02,  2.79220399e-02,  2.16578320e-03, -4.08737734e-02,\n",
       "        -9.16822441e-03, -1.98826548e-02, -3.72895971e-02, -1.89804602e-02,\n",
       "         1.10423993e-04, -1.92917455e-02,  1.59863494e-02,  9.01398994e-03,\n",
       "         2.58662831e-02, -2.54938453e-02, -5.06478846e-02,  9.44561325e-03,\n",
       "         3.57352421e-02, -1.70889497e-02,  2.10271534e-02,  3.30528207e-02,\n",
       "        -1.34364385e-02, -3.70816030e-02,  1.22727221e-02,  2.99300868e-02,\n",
       "         7.01045990e-03, -1.49250850e-02,  2.41394434e-02,  8.95828288e-03,\n",
       "         1.33905001e-02,  1.80807263e-02, -2.41486263e-02,  2.55340040e-02,\n",
       "        -4.57227007e-02, -5.25705842e-03, -3.01278308e-02, -3.28535177e-02,\n",
       "        -1.07163284e-02, -2.25428846e-02,  2.89111529e-02,  3.71368751e-02,\n",
       "         6.63018133e-03,  3.54825221e-02,  3.05303559e-02,  3.73844989e-02,\n",
       "        -4.10586968e-02, -4.06482108e-02, -2.21128669e-02,  7.05890059e-02,\n",
       "         2.78645661e-02,  7.10000237e-03,  1.30401868e-02, -2.72500087e-02,\n",
       "        -1.46423113e-02, -2.67932508e-02, -2.34745699e-03,  6.30668644e-03,\n",
       "        -2.44393982e-02,  1.22322096e-02, -2.72444692e-02,  1.11401491e-02,\n",
       "        -4.08298336e-02, -1.42744621e-02, -3.34038846e-02, -2.90193651e-02,\n",
       "        -1.34295262e-02, -2.00494137e-02,  1.06777232e-02,  2.12647254e-03,\n",
       "        -3.94858718e-02,  7.31653394e-03, -2.21620575e-02,  2.28488762e-02,\n",
       "         9.48733278e-03, -6.53786883e-02, -6.66209832e-02, -2.39869077e-02,\n",
       "        -1.46319019e-02,  1.56687032e-02, -3.42222005e-02,  1.90596853e-03,\n",
       "        -3.30402218e-02,  3.26591805e-02, -3.34047303e-02, -1.92172099e-02,\n",
       "        -2.22833757e-03,  5.50687267e-03,  1.57068216e-03,  5.53658092e-03,\n",
       "         2.64734030e-02,  6.29279343e-03, -1.46176936e-02,  2.41220854e-02,\n",
       "        -9.98895802e-03, -2.68031321e-02,  1.21388817e-02,  2.49429699e-02,\n",
       "        -1.18768709e-02, -3.14746276e-02, -4.73743975e-02, -1.98778659e-02,\n",
       "        -3.41243446e-02,  8.96098278e-03,  3.00421864e-02,  2.73367688e-02,\n",
       "        -3.79714929e-02,  2.70611513e-02, -2.52846088e-02,  1.24830445e-02,\n",
       "         5.75009501e-03, -2.84926593e-02,  2.97487006e-02, -2.00465117e-02,\n",
       "        -3.22637595e-02, -2.76734494e-02,  6.10843673e-02,  6.84041996e-03],\n",
       "       dtype=float32),\n",
       " array([[ 0.15421954],\n",
       "        [-0.17345932],\n",
       "        [ 0.14447257],\n",
       "        [-0.21244992],\n",
       "        [-0.23983766],\n",
       "        [-0.15692958],\n",
       "        [-0.04613168],\n",
       "        [-0.19704047],\n",
       "        [-0.03692733],\n",
       "        [-0.57632726],\n",
       "        [-0.02010252],\n",
       "        [-0.0358867 ],\n",
       "        [-0.09221347],\n",
       "        [ 0.17014003],\n",
       "        [-0.25443438],\n",
       "        [ 0.09472045],\n",
       "        [ 0.18622673],\n",
       "        [ 0.1401831 ],\n",
       "        [-0.09048174],\n",
       "        [-0.12539823],\n",
       "        [ 0.20875108],\n",
       "        [-0.08021294],\n",
       "        [ 0.1781104 ],\n",
       "        [-0.23010117],\n",
       "        [ 0.20886198],\n",
       "        [-0.08492947],\n",
       "        [ 0.16144085],\n",
       "        [-0.05995478],\n",
       "        [ 0.2053243 ],\n",
       "        [ 0.33656818],\n",
       "        [-0.17244223],\n",
       "        [ 0.08297003],\n",
       "        [ 0.16035494],\n",
       "        [ 0.09742755],\n",
       "        [ 0.20072845],\n",
       "        [ 0.26440534],\n",
       "        [-0.01646587],\n",
       "        [ 0.1884395 ],\n",
       "        [ 0.16565338],\n",
       "        [ 0.07750563],\n",
       "        [ 0.24761204],\n",
       "        [ 0.22310604],\n",
       "        [-0.2261108 ],\n",
       "        [-0.03384995],\n",
       "        [-0.09375782],\n",
       "        [-0.18297122],\n",
       "        [ 0.1890494 ],\n",
       "        [-0.12780671],\n",
       "        [-0.19680038],\n",
       "        [-0.23774073],\n",
       "        [-0.2115913 ],\n",
       "        [-0.06949002],\n",
       "        [ 0.13063154],\n",
       "        [ 0.08289104],\n",
       "        [ 0.13833047],\n",
       "        [ 0.08234988],\n",
       "        [-0.1386075 ],\n",
       "        [-0.28389478],\n",
       "        [ 0.05323873],\n",
       "        [ 0.33630842],\n",
       "        [ 0.00530607],\n",
       "        [ 0.12444678],\n",
       "        [ 0.07826254],\n",
       "        [-0.17859715],\n",
       "        [ 0.16787331],\n",
       "        [-0.19574574],\n",
       "        [-0.09299427],\n",
       "        [-0.04877269],\n",
       "        [ 0.23866495],\n",
       "        [ 0.09152127],\n",
       "        [ 0.06990711],\n",
       "        [-0.16326314],\n",
       "        [-0.14362176],\n",
       "        [-0.06450509],\n",
       "        [-0.01954043],\n",
       "        [ 0.19760628],\n",
       "        [ 0.17211752],\n",
       "        [ 0.25747454],\n",
       "        [ 0.21693413],\n",
       "        [ 0.06871848],\n",
       "        [ 0.08533985],\n",
       "        [ 0.08447671],\n",
       "        [-0.07726458],\n",
       "        [ 0.12104531],\n",
       "        [ 0.1641213 ],\n",
       "        [-0.0408988 ],\n",
       "        [ 0.0720905 ],\n",
       "        [ 0.06309023],\n",
       "        [ 0.11468641],\n",
       "        [-0.12640478],\n",
       "        [ 0.15457992],\n",
       "        [ 0.1642891 ],\n",
       "        [-0.2043098 ],\n",
       "        [-0.18747571],\n",
       "        [ 0.08021282],\n",
       "        [ 0.03432349],\n",
       "        [-0.11340223],\n",
       "        [ 0.09059998],\n",
       "        [-0.00743457],\n",
       "        [ 0.22984965],\n",
       "        [-0.17929842],\n",
       "        [ 0.23204063],\n",
       "        [-0.1519078 ],\n",
       "        [-0.11786164],\n",
       "        [-0.33470744],\n",
       "        [-0.08438595],\n",
       "        [-0.05810697],\n",
       "        [ 0.25049567],\n",
       "        [ 0.04215736],\n",
       "        [-0.11382354],\n",
       "        [-0.24184021],\n",
       "        [ 0.09473754],\n",
       "        [-0.3549196 ],\n",
       "        [ 0.03165342],\n",
       "        [ 0.00421069],\n",
       "        [-1.2242298 ],\n",
       "        [-0.06804396],\n",
       "        [ 0.03129113],\n",
       "        [-0.47715533],\n",
       "        [-0.14626531],\n",
       "        [ 0.19329996],\n",
       "        [-0.1510247 ],\n",
       "        [-0.08755354],\n",
       "        [-0.15543589],\n",
       "        [ 0.17790073],\n",
       "        [ 0.47925463],\n",
       "        [-0.15016496],\n",
       "        [-0.02110825]], dtype=float32),\n",
       " array([-0.25964075], dtype=float32)]"
      ]
     },
     "execution_count": 4,
     "metadata": {},
     "output_type": "execute_result"
    }
   ],
   "source": [
    "model.get_weights()"
   ]
  },
  {
   "cell_type": "code",
   "execution_count": 5,
   "id": "7902ccc8",
   "metadata": {},
   "outputs": [],
   "source": [
    "# Step 2: Helper function to decode reviews\n",
    "# function to decode reviews from integers to words\n",
    "def decode_review(encoded_review):\n",
    "    return ' '.join([reverse_word_index.get(i-3, '?') for i in encoded_review])\n",
    "\n",
    "# function to preprocess user input\n",
    "def preprocess_input(text):\n",
    "    words=text.lower().split()\n",
    "    encoded_review=[word_index.get(word, 2)+3 for word in words]\n",
    "    padded_review=sequence.pad_sequences([encoded_review], maxlen=500)\n",
    "    return padded_review\n"
   ]
  },
  {
   "cell_type": "code",
   "execution_count": 10,
   "id": "1aaee462",
   "metadata": {},
   "outputs": [],
   "source": [
    "## Prediction function\n",
    "def predict_sentiment(review):\n",
    "    preprocessed_review=preprocess_input(review)\n",
    "\n",
    "    prediction=model.predict(preprocessed_review)\n",
    "\n",
    "    sentiment = 'Positive' if prediction[0][0] > 0.5 else 'Negative'\n",
    "\n",
    "    return sentiment, prediction[0][0]"
   ]
  },
  {
   "cell_type": "code",
   "execution_count": 14,
   "id": "6814f0ed",
   "metadata": {},
   "outputs": [
    {
     "name": "stdout",
     "output_type": "stream",
     "text": [
      "\u001b[1m1/1\u001b[0m \u001b[32m━━━━━━━━━━━━━━━━━━━━\u001b[0m\u001b[37m\u001b[0m \u001b[1m0s\u001b[0m 57ms/step\n",
      "Review: This movie was fantastic! I loved the acting and the plot was very engaging.\n",
      "Sentiment: Positive\n",
      "Prediction Score: 0.9953\n"
     ]
    }
   ],
   "source": [
    "## Step 4: User input and prediction\n",
    "example_review='This movie was fantastic! I loved the acting and the plot was very engaging.'\n",
    "\n",
    "sentiment, prediction=predict_sentiment(example_review)\n",
    "\n",
    "print(f\"Review: {example_review}\")\n",
    "print(f\"Sentiment: {sentiment}\")\n",
    "print(f\"Prediction Score: {prediction:.4f}\")"
   ]
  },
  {
   "cell_type": "code",
   "execution_count": 16,
   "id": "f1401049",
   "metadata": {},
   "outputs": [
    {
     "name": "stdout",
     "output_type": "stream",
     "text": [
      "\u001b[1m1/1\u001b[0m \u001b[32m━━━━━━━━━━━━━━━━━━━━\u001b[0m\u001b[37m\u001b[0m \u001b[1m0s\u001b[0m 205ms/step\n",
      "Review: This movie was terrible. I hated the acting and the plot was boring. The worst movie I have ever seen. I would not recommend it to anyone. It was a waste of time. I regret watching it.\n",
      "Sentiment: Negative\n",
      "Prediction Score: 0.0519\n"
     ]
    }
   ],
   "source": [
    "example_review='This movie was terrible. I hated the acting and the plot was boring. The worst movie I have ever seen. I would not recommend it to anyone. It was a waste of time. I regret watching it.'\n",
    "sentiment, prediction = predict_sentiment(example_review)\n",
    "print(f\"Review: {example_review}\")\n",
    "print(f\"Sentiment: {sentiment}\")\n",
    "print(f\"Prediction Score: {prediction:.4f}\")"
   ]
  }
 ],
 "metadata": {
  "kernelspec": {
   "display_name": "Python 3",
   "language": "python",
   "name": "python3"
  },
  "language_info": {
   "codemirror_mode": {
    "name": "ipython",
    "version": 3
   },
   "file_extension": ".py",
   "mimetype": "text/x-python",
   "name": "python",
   "nbconvert_exporter": "python",
   "pygments_lexer": "ipython3",
   "version": "3.11.0"
  }
 },
 "nbformat": 4,
 "nbformat_minor": 5
}
