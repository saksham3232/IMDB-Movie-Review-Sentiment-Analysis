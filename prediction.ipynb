{
 "cells": [
  {
   "cell_type": "code",
   "execution_count": 1,
   "id": "90eea192",
   "metadata": {},
   "outputs": [],
   "source": [
    "# Step 1: Import libraries and load the model\n",
    "import numpy as np\n",
    "import tensorflow as tf\n",
    "from tensorflow.keras.models import load_model\n",
    "from tensorflow.keras.preprocessing import sequence\n",
    "from tensorflow.keras.datasets import imdb"
   ]
  },
  {
   "cell_type": "code",
   "execution_count": 2,
   "id": "f8885da4",
   "metadata": {},
   "outputs": [],
   "source": [
    "# Load the IMDB dataset\n",
    "word_index=imdb.get_word_index()\n",
    "reverse_word_index={value: key for key, value in word_index.items()}"
   ]
  },
  {
   "cell_type": "code",
   "execution_count": 3,
   "id": "b0509f2b",
   "metadata": {},
   "outputs": [
    {
     "data": {
      "text/html": [
       "<pre style=\"white-space:pre;overflow-x:auto;line-height:normal;font-family:Menlo,'DejaVu Sans Mono',consolas,'Courier New',monospace\"><span style=\"font-weight: bold\">Model: \"sequential_2\"</span>\n",
       "</pre>\n"
      ],
      "text/plain": [
       "\u001b[1mModel: \"sequential_2\"\u001b[0m\n"
      ]
     },
     "metadata": {},
     "output_type": "display_data"
    },
    {
     "data": {
      "text/html": [
       "<pre style=\"white-space:pre;overflow-x:auto;line-height:normal;font-family:Menlo,'DejaVu Sans Mono',consolas,'Courier New',monospace\">┏━━━━━━━━━━━━━━━━━━━━━━━━━━━━━━━━━┳━━━━━━━━━━━━━━━━━━━━━━━━┳━━━━━━━━━━━━━━━┓\n",
       "┃<span style=\"font-weight: bold\"> Layer (type)                    </span>┃<span style=\"font-weight: bold\"> Output Shape           </span>┃<span style=\"font-weight: bold\">       Param # </span>┃\n",
       "┡━━━━━━━━━━━━━━━━━━━━━━━━━━━━━━━━━╇━━━━━━━━━━━━━━━━━━━━━━━━╇━━━━━━━━━━━━━━━┩\n",
       "│ embedding_2 (<span style=\"color: #0087ff; text-decoration-color: #0087ff\">Embedding</span>)         │ (<span style=\"color: #00d7ff; text-decoration-color: #00d7ff\">None</span>, <span style=\"color: #00af00; text-decoration-color: #00af00\">500</span>, <span style=\"color: #00af00; text-decoration-color: #00af00\">128</span>)       │     <span style=\"color: #00af00; text-decoration-color: #00af00\">1,280,000</span> │\n",
       "├─────────────────────────────────┼────────────────────────┼───────────────┤\n",
       "│ simple_rnn_2 (<span style=\"color: #0087ff; text-decoration-color: #0087ff\">SimpleRNN</span>)        │ (<span style=\"color: #00d7ff; text-decoration-color: #00d7ff\">None</span>, <span style=\"color: #00af00; text-decoration-color: #00af00\">128</span>)            │        <span style=\"color: #00af00; text-decoration-color: #00af00\">32,896</span> │\n",
       "├─────────────────────────────────┼────────────────────────┼───────────────┤\n",
       "│ dense_2 (<span style=\"color: #0087ff; text-decoration-color: #0087ff\">Dense</span>)                 │ (<span style=\"color: #00d7ff; text-decoration-color: #00d7ff\">None</span>, <span style=\"color: #00af00; text-decoration-color: #00af00\">1</span>)              │           <span style=\"color: #00af00; text-decoration-color: #00af00\">129</span> │\n",
       "└─────────────────────────────────┴────────────────────────┴───────────────┘\n",
       "</pre>\n"
      ],
      "text/plain": [
       "┏━━━━━━━━━━━━━━━━━━━━━━━━━━━━━━━━━┳━━━━━━━━━━━━━━━━━━━━━━━━┳━━━━━━━━━━━━━━━┓\n",
       "┃\u001b[1m \u001b[0m\u001b[1mLayer (type)                   \u001b[0m\u001b[1m \u001b[0m┃\u001b[1m \u001b[0m\u001b[1mOutput Shape          \u001b[0m\u001b[1m \u001b[0m┃\u001b[1m \u001b[0m\u001b[1m      Param #\u001b[0m\u001b[1m \u001b[0m┃\n",
       "┡━━━━━━━━━━━━━━━━━━━━━━━━━━━━━━━━━╇━━━━━━━━━━━━━━━━━━━━━━━━╇━━━━━━━━━━━━━━━┩\n",
       "│ embedding_2 (\u001b[38;5;33mEmbedding\u001b[0m)         │ (\u001b[38;5;45mNone\u001b[0m, \u001b[38;5;34m500\u001b[0m, \u001b[38;5;34m128\u001b[0m)       │     \u001b[38;5;34m1,280,000\u001b[0m │\n",
       "├─────────────────────────────────┼────────────────────────┼───────────────┤\n",
       "│ simple_rnn_2 (\u001b[38;5;33mSimpleRNN\u001b[0m)        │ (\u001b[38;5;45mNone\u001b[0m, \u001b[38;5;34m128\u001b[0m)            │        \u001b[38;5;34m32,896\u001b[0m │\n",
       "├─────────────────────────────────┼────────────────────────┼───────────────┤\n",
       "│ dense_2 (\u001b[38;5;33mDense\u001b[0m)                 │ (\u001b[38;5;45mNone\u001b[0m, \u001b[38;5;34m1\u001b[0m)              │           \u001b[38;5;34m129\u001b[0m │\n",
       "└─────────────────────────────────┴────────────────────────┴───────────────┘\n"
      ]
     },
     "metadata": {},
     "output_type": "display_data"
    },
    {
     "data": {
      "text/html": [
       "<pre style=\"white-space:pre;overflow-x:auto;line-height:normal;font-family:Menlo,'DejaVu Sans Mono',consolas,'Courier New',monospace\"><span style=\"font-weight: bold\"> Total params: </span><span style=\"color: #00af00; text-decoration-color: #00af00\">1,313,025</span> (5.01 MB)\n",
       "</pre>\n"
      ],
      "text/plain": [
       "\u001b[1m Total params: \u001b[0m\u001b[38;5;34m1,313,025\u001b[0m (5.01 MB)\n"
      ]
     },
     "metadata": {},
     "output_type": "display_data"
    },
    {
     "data": {
      "text/html": [
       "<pre style=\"white-space:pre;overflow-x:auto;line-height:normal;font-family:Menlo,'DejaVu Sans Mono',consolas,'Courier New',monospace\"><span style=\"font-weight: bold\"> Trainable params: </span><span style=\"color: #00af00; text-decoration-color: #00af00\">1,313,025</span> (5.01 MB)\n",
       "</pre>\n"
      ],
      "text/plain": [
       "\u001b[1m Trainable params: \u001b[0m\u001b[38;5;34m1,313,025\u001b[0m (5.01 MB)\n"
      ]
     },
     "metadata": {},
     "output_type": "display_data"
    },
    {
     "data": {
      "text/html": [
       "<pre style=\"white-space:pre;overflow-x:auto;line-height:normal;font-family:Menlo,'DejaVu Sans Mono',consolas,'Courier New',monospace\"><span style=\"font-weight: bold\"> Non-trainable params: </span><span style=\"color: #00af00; text-decoration-color: #00af00\">0</span> (0.00 B)\n",
       "</pre>\n"
      ],
      "text/plain": [
       "\u001b[1m Non-trainable params: \u001b[0m\u001b[38;5;34m0\u001b[0m (0.00 B)\n"
      ]
     },
     "metadata": {},
     "output_type": "display_data"
    }
   ],
   "source": [
    "# Load the pre-trained model\n",
    "model = load_model('imdb_rnn_model.keras', compile=False)\n",
    "model.summary()"
   ]
  },
  {
   "cell_type": "code",
   "execution_count": 4,
   "id": "b9c847a3",
   "metadata": {},
   "outputs": [
    {
     "data": {
      "text/plain": [
       "[array([[-0.01438247,  0.13982536, -0.04607509, ...,  0.07515907,\n",
       "          0.01419813,  0.01418416],\n",
       "        [-0.00844339,  0.05164868,  0.03076755, ..., -0.02473707,\n",
       "         -0.02918121,  0.01715057],\n",
       "        [ 0.01392549,  0.06407683, -0.00351383, ...,  0.02108234,\n",
       "          0.02012902, -0.06561203],\n",
       "        ...,\n",
       "        [ 0.03462355,  0.10629148,  0.12924236, ..., -0.00792337,\n",
       "         -0.0045128 ,  0.00830422],\n",
       "        [-0.13695212, -0.12038063,  0.08368187, ..., -0.03622152,\n",
       "         -0.062583  , -0.09011583],\n",
       "        [ 0.09200533,  0.21911532, -0.12289419, ..., -0.01912642,\n",
       "          0.11429948,  0.10465614]], dtype=float32),\n",
       " array([[ 1.86752342e-02,  1.01854421e-01,  7.01792911e-02, ...,\n",
       "          1.04495799e-02, -1.47623837e-01,  2.74919607e-02],\n",
       "        [-9.86733213e-02,  1.43177416e-02,  7.20606819e-02, ...,\n",
       "          6.99479729e-02,  5.01903705e-02, -2.67964019e-03],\n",
       "        [-7.06602708e-02, -1.50112689e-01,  2.58189347e-02, ...,\n",
       "          1.51402250e-01,  9.76222381e-03,  5.39653189e-02],\n",
       "        ...,\n",
       "        [-1.42460868e-01, -5.31014949e-02, -6.93910718e-02, ...,\n",
       "          7.73045258e-07,  3.78934741e-02,  6.16338290e-02],\n",
       "        [ 1.71737224e-02,  3.58910821e-02,  1.38917670e-03, ...,\n",
       "          1.42945677e-01, -1.07943334e-01, -1.40804797e-01],\n",
       "        [-1.82991698e-02,  1.18697524e-01,  2.37532668e-02, ...,\n",
       "         -1.48023412e-01,  1.11816727e-01,  6.41094446e-02]], dtype=float32),\n",
       " array([[-7.96874464e-02, -2.93642338e-02,  9.39047858e-02, ...,\n",
       "         -1.26265530e-02, -9.33874864e-03, -1.02229826e-01],\n",
       "        [-2.72748083e-01,  1.89618036e-01, -1.68461829e-01, ...,\n",
       "         -8.55523441e-03,  5.80580011e-02, -8.91047297e-04],\n",
       "        [ 3.28477621e-02, -1.06319942e-01,  3.44294421e-02, ...,\n",
       "          1.81536824e-01,  1.16414100e-01,  7.49104694e-02],\n",
       "        ...,\n",
       "        [-6.00549467e-02,  1.07832499e-01,  8.22186396e-02, ...,\n",
       "         -1.40408888e-01, -1.30469052e-05, -3.93558331e-02],\n",
       "        [-1.69406146e-01,  4.93395850e-02, -2.40326636e-02, ...,\n",
       "          7.81257823e-02, -7.16763511e-02, -4.12640460e-02],\n",
       "        [ 9.28576514e-02,  1.57098711e-01,  4.47108746e-02, ...,\n",
       "         -5.63506857e-02, -6.26717359e-02,  5.81960455e-02]], dtype=float32),\n",
       " array([-0.00142184,  0.01896577,  0.00390959,  0.00426018, -0.00910435,\n",
       "        -0.0093195 ,  0.00976204, -0.02133676,  0.00607727, -0.0070589 ,\n",
       "         0.01069556,  0.00970384, -0.00367882,  0.02131706,  0.02319287,\n",
       "        -0.0006231 ,  0.0177615 , -0.00996496, -0.00622623,  0.00912311,\n",
       "        -0.01300669, -0.00443445,  0.00581111,  0.01468813, -0.01020433,\n",
       "        -0.0105245 , -0.01483594, -0.00495005, -0.01286139, -0.02733178,\n",
       "        -0.01151517, -0.01085684, -0.02334712, -0.00728972,  0.0122998 ,\n",
       "        -0.01804346, -0.01255876,  0.01289367, -0.00099157, -0.01059694,\n",
       "        -0.03003825,  0.02093149,  0.02449165, -0.02427593,  0.01661293,\n",
       "        -0.00466837,  0.01699029, -0.00250681, -0.03910638, -0.01081918,\n",
       "        -0.02242716, -0.00183114, -0.0105754 ,  0.00421044, -0.00320144,\n",
       "         0.00422664, -0.00348157, -0.00040983,  0.00124494, -0.00980732,\n",
       "         0.02431211,  0.0215655 ,  0.00479941,  0.01791598,  0.00552614,\n",
       "        -0.0186082 ,  0.01687811, -0.0021585 ,  0.01546729, -0.00658306,\n",
       "        -0.01431577, -0.02774747,  0.008163  , -0.01198023,  0.01640991,\n",
       "         0.00374869,  0.01946002, -0.02977283,  0.00392716,  0.01714919,\n",
       "        -0.0014654 ,  0.02244265,  0.02361339, -0.00755082,  0.00841842,\n",
       "        -0.02005248,  0.00739127,  0.00984437,  0.01439245, -0.00239703,\n",
       "        -0.02612666,  0.0252452 , -0.01553607,  0.01072542, -0.00066005,\n",
       "        -0.0146852 , -0.00117839, -0.02562583,  0.01613617, -0.01936316,\n",
       "         0.00767656, -0.03322339,  0.01267252, -0.00082819,  0.01237999,\n",
       "         0.00563228, -0.00736729,  0.00302504, -0.00779176, -0.00640852,\n",
       "         0.01358189, -0.00156965,  0.00398142,  0.02441218, -0.01763704,\n",
       "         0.00819592,  0.00443704,  0.00676274,  0.0044325 , -0.02216377,\n",
       "        -0.02021853,  0.01360523, -0.00667966,  0.00231673,  0.01573634,\n",
       "         0.01817561,  0.01233284, -0.02216953], dtype=float32),\n",
       " array([[ 0.10772785],\n",
       "        [ 0.06465027],\n",
       "        [-0.16639325],\n",
       "        [-0.94544536],\n",
       "        [ 0.24072078],\n",
       "        [-0.00623756],\n",
       "        [ 0.18386823],\n",
       "        [ 0.22265643],\n",
       "        [-0.03214122],\n",
       "        [ 0.00690883],\n",
       "        [-0.60576254],\n",
       "        [-0.09383891],\n",
       "        [ 0.22000699],\n",
       "        [ 0.06346765],\n",
       "        [ 0.2188685 ],\n",
       "        [-0.08395904],\n",
       "        [ 0.18218592],\n",
       "        [-0.08587183],\n",
       "        [ 0.17452483],\n",
       "        [ 0.01806705],\n",
       "        [-0.01538337],\n",
       "        [-0.48948255],\n",
       "        [ 0.06940887],\n",
       "        [ 0.12456193],\n",
       "        [-0.15123321],\n",
       "        [ 0.13563716],\n",
       "        [-0.1377318 ],\n",
       "        [-0.21274678],\n",
       "        [-0.12851757],\n",
       "        [ 0.3032551 ],\n",
       "        [-0.10498688],\n",
       "        [ 0.17606823],\n",
       "        [-0.55495685],\n",
       "        [-0.34960154],\n",
       "        [ 0.18839756],\n",
       "        [ 0.0401669 ],\n",
       "        [-0.09522405],\n",
       "        [ 0.11536315],\n",
       "        [-0.13015701],\n",
       "        [-0.03816781],\n",
       "        [ 0.15473494],\n",
       "        [-0.37387013],\n",
       "        [ 0.09325178],\n",
       "        [-0.15803763],\n",
       "        [ 0.12923017],\n",
       "        [ 0.09091323],\n",
       "        [-0.05813387],\n",
       "        [-0.6281911 ],\n",
       "        [ 0.12239145],\n",
       "        [-0.28826287],\n",
       "        [-0.04139106],\n",
       "        [-0.21970735],\n",
       "        [ 0.04775125],\n",
       "        [-0.17313975],\n",
       "        [-0.14061932],\n",
       "        [-0.03219648],\n",
       "        [ 0.07306948],\n",
       "        [ 0.17408134],\n",
       "        [-0.17543735],\n",
       "        [-0.17246312],\n",
       "        [ 0.07608157],\n",
       "        [ 0.02372302],\n",
       "        [-0.14632787],\n",
       "        [-0.00660479],\n",
       "        [-0.88711387],\n",
       "        [-0.07179394],\n",
       "        [ 0.07028309],\n",
       "        [ 0.0187244 ],\n",
       "        [-0.01481107],\n",
       "        [-0.21741292],\n",
       "        [-0.100365  ],\n",
       "        [-0.09939357],\n",
       "        [ 0.12000393],\n",
       "        [-0.05306833],\n",
       "        [ 0.08162654],\n",
       "        [ 0.13154204],\n",
       "        [ 0.10348354],\n",
       "        [-0.03972078],\n",
       "        [-0.13306794],\n",
       "        [ 0.06975661],\n",
       "        [ 0.05124039],\n",
       "        [ 0.11810241],\n",
       "        [-0.13325313],\n",
       "        [ 0.07786535],\n",
       "        [ 0.18473653],\n",
       "        [-1.0434694 ],\n",
       "        [-0.20510581],\n",
       "        [-0.0013585 ],\n",
       "        [-1.0272979 ],\n",
       "        [-0.12195255],\n",
       "        [ 0.08635367],\n",
       "        [ 0.00640456],\n",
       "        [ 0.05744674],\n",
       "        [ 0.12348219],\n",
       "        [-0.00571323],\n",
       "        [-0.13000135],\n",
       "        [-0.04577447],\n",
       "        [-0.31145218],\n",
       "        [-0.02089005],\n",
       "        [ 0.15868735],\n",
       "        [-0.08802738],\n",
       "        [ 0.1595178 ],\n",
       "        [-0.13796173],\n",
       "        [-0.07784387],\n",
       "        [ 0.14420882],\n",
       "        [ 0.01866098],\n",
       "        [ 0.02312065],\n",
       "        [ 0.22738545],\n",
       "        [-0.03903573],\n",
       "        [-0.1920567 ],\n",
       "        [-0.0655644 ],\n",
       "        [-0.1630659 ],\n",
       "        [ 0.12530021],\n",
       "        [ 0.12811866],\n",
       "        [-0.15134813],\n",
       "        [-0.43712622],\n",
       "        [-0.22346404],\n",
       "        [-0.13645735],\n",
       "        [ 0.12189522],\n",
       "        [ 0.18762332],\n",
       "        [ 0.03470984],\n",
       "        [ 0.02733466],\n",
       "        [ 0.22401522],\n",
       "        [-0.04053666],\n",
       "        [ 0.00857162],\n",
       "        [-0.1669039 ],\n",
       "        [-0.10659855],\n",
       "        [-0.02312429]], dtype=float32),\n",
       " array([-1.1721437], dtype=float32)]"
      ]
     },
     "execution_count": 4,
     "metadata": {},
     "output_type": "execute_result"
    }
   ],
   "source": [
    "model.get_weights()"
   ]
  },
  {
   "cell_type": "code",
   "execution_count": 5,
   "id": "7902ccc8",
   "metadata": {},
   "outputs": [],
   "source": [
    "# Step 2: Helper function to decode reviews\n",
    "# function to decode reviews from integers to words\n",
    "def decode_review(encoded_review):\n",
    "    return ' '.join([reverse_word_index.get(i-3, '?') for i in encoded_review])\n",
    "\n",
    "# function to preprocess user input\n",
    "def preprocess_input(text):\n",
    "    words=text.lower().split()\n",
    "    encoded_review=[word_index.get(word, 2)+3 for word in words]\n",
    "    padded_review=sequence.pad_sequences([encoded_review], maxlen=500)\n",
    "    return padded_review\n"
   ]
  },
  {
   "cell_type": "code",
   "execution_count": 6,
   "id": "1aaee462",
   "metadata": {},
   "outputs": [],
   "source": [
    "## Prediction function\n",
    "def predict_sentiment(review):\n",
    "    preprocessed_review=preprocess_input(review)\n",
    "\n",
    "    prediction=model.predict(preprocessed_review)\n",
    "\n",
    "    sentiment = 'Positive' if prediction[0][0] > 0.5 else 'Negative'\n",
    "\n",
    "    return sentiment, prediction[0][0]"
   ]
  },
  {
   "cell_type": "code",
   "execution_count": 7,
   "id": "6814f0ed",
   "metadata": {},
   "outputs": [
    {
     "name": "stdout",
     "output_type": "stream",
     "text": [
      "\u001b[1m1/1\u001b[0m \u001b[32m━━━━━━━━━━━━━━━━━━━━\u001b[0m\u001b[37m\u001b[0m \u001b[1m0s\u001b[0m 331ms/step\n",
      "Review: This movie was fantastic! I loved the acting and the plot was very engaging.\n",
      "Sentiment: Positive\n",
      "Prediction Score: 0.7720\n"
     ]
    }
   ],
   "source": [
    "## Step 4: User input and prediction\n",
    "example_review='This movie was fantastic! I loved the acting and the plot was very engaging.'\n",
    "\n",
    "sentiment, prediction=predict_sentiment(example_review)\n",
    "\n",
    "print(f\"Review: {example_review}\")\n",
    "print(f\"Sentiment: {sentiment}\")\n",
    "print(f\"Prediction Score: {prediction:.4f}\")"
   ]
  },
  {
   "cell_type": "code",
   "execution_count": 8,
   "id": "f1401049",
   "metadata": {},
   "outputs": [
    {
     "name": "stdout",
     "output_type": "stream",
     "text": [
      "\u001b[1m1/1\u001b[0m \u001b[32m━━━━━━━━━━━━━━━━━━━━\u001b[0m\u001b[37m\u001b[0m \u001b[1m0s\u001b[0m 93ms/step\n",
      "Review: This movie was terrible. I hated the acting and the plot was boring. The worst movie I have ever seen. I would not recommend it to anyone. It was a waste of time. I regret watching it.\n",
      "Sentiment: Negative\n",
      "Prediction Score: 0.0020\n"
     ]
    }
   ],
   "source": [
    "example_review='This movie was terrible. I hated the acting and the plot was boring. The worst movie I have ever seen. I would not recommend it to anyone. It was a waste of time. I regret watching it.'\n",
    "sentiment, prediction = predict_sentiment(example_review)\n",
    "print(f\"Review: {example_review}\")\n",
    "print(f\"Sentiment: {sentiment}\")\n",
    "print(f\"Prediction Score: {prediction:.4f}\")"
   ]
  }
 ],
 "metadata": {
  "kernelspec": {
   "display_name": "Python 3",
   "language": "python",
   "name": "python3"
  },
  "language_info": {
   "codemirror_mode": {
    "name": "ipython",
    "version": 3
   },
   "file_extension": ".py",
   "mimetype": "text/x-python",
   "name": "python",
   "nbconvert_exporter": "python",
   "pygments_lexer": "ipython3",
   "version": "3.11.0"
  }
 },
 "nbformat": 4,
 "nbformat_minor": 5
}
